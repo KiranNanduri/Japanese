{
 "cells": [
  {
   "cell_type": "markdown",
   "metadata": {},
   "source": [
    "### This notebook is used for Hiragana  practise"
   ]
  },
  {
   "cell_type": "markdown",
   "metadata": {},
   "source": [
    "#### How to use this notebook :\n",
    "Once the program starts running it will keep on generating a random Hiragana with time gap which was choosen at the begning of the program, you need to have a paper handy on which you can write equivalent romaji.\n",
    "\n",
    "Program will request to input Time Gap to display each Hiragana and for how long. If non-numberic values are entered, it will take default values.\n",
    "\n",
    "After certain period of time, user will get request to continue\n",
    "\n",
    "###### Defaults:\n",
    "\n",
    "Gap between Hiragana : 3  seconds\n",
    "\n",
    "Exit interval      : 30 seconds\n"
   ]
  },
  {
   "cell_type": "code",
   "execution_count": 1,
   "metadata": {},
   "outputs": [],
   "source": [
    "import time                                               # used for sleep\n",
    "from random import randint                                # To generate random Hiragana\n",
    "from IPython.display import clear_output                  # to clear screen"
   ]
  },
  {
   "cell_type": "markdown",
   "metadata": {},
   "source": [
    "#### Creating a list of Hiragana characters"
   ]
  },
  {
   "cell_type": "code",
   "execution_count": 2,
   "metadata": {},
   "outputs": [],
   "source": [
    "class Intiating():\n",
    "    \n",
    "    Hiragana=['あ','い','う','え','お','か','き','く','け','こ',\n",
    "            'きゃ','きゅ','きょ','さ','し','す','せ','そ','しゃ',\n",
    "            'しゅ','しょ','た','ち','つ','て','と','ちゃ','ちゅ','ちょ',\n",
    "            'な','に','ぬ','ね','の','にゃ','にゅ','にょ','は',\n",
    "            'ひ','ふ','へ','ほ','ひゃ','ひゅ','ひょ','ま','み',\n",
    "            'む','め','も','みゃ','みゅ','みょ','や','ゆ','よ',\n",
    "            'ら','り','る','れ','ろ','りゃ','りゅ','りょ','わ','を',\n",
    "            'ん','が','ぎ','ぐ','げ','ご','ぎゃ','ぎゅ','ぎょ',\n",
    "            'ざ','じ','ず','ぜ','ぞ','じゃ','じゅ','じょ',\n",
    "            'だ','ぢ','づ','で','ど','ぢゃ','ぢゅ','ぢょ',\n",
    "            'ば','び','ぶ','べ','ぼ','びゃ','びゅ','びょ',\n",
    "            'ぱ','ぴ','ぷ','ぺ','ぽ','ぴゃ','ぴゅ','ぴょ']\n",
    "    \n",
    "    Hiragana_with_romaji=[('a','あ'),('kya','きゃ'),('shu','しゅ'),('na','な'),('hi','ひ'),('mu','む'),('ra','ら'),('n','ん'),('za','ざ'),\n",
    "      ('da','だ'),('ba','ば'),('pa','ぱ'),('i','い'),('kyu','きゅ'),('sho','しょ'),('ni','に'),('fu','ふ'),('me','め'),\n",
    "      ('ri','り'),('ga','が'),('ji','じ'),('ji','ぢ'),('bi','び'),('pi','ぴ'),('u','う'),('kyo','きょ'),('ta','た'),\n",
    "      ('nu','ぬ'),('he','へ'),('mo','も'),('ru','る'),('gi','ぎ'),('zu','ず'),('dzu','づ'),('bu','ぶ'),('pu','ぷ'),\n",
    "      ('e','え'),('sa','さ'),('chi','ち'),('ne','ね'),('ho','ほ'),('mya','みゃ'),('re','れ'),('gu','ぐ'),('ze','ぜ'),\n",
    "      ('de','で'),('be','べ'),('pe','ぺ'),('o','お'),('shi','し'),('tsu','つ'),('no','の'),('hya','ひゃ'),('myu','みゅ'),\n",
    "      ('ro','ろ'),('ge','げ'),('zo','ぞ'),('do','ど'),('bo','ぼ'),('po','ぽ'),('ka','か'),('su','す'),('te','て'),\n",
    "      ('nya','にゃ'),('hyu','ひゅ'),('myo','みょ'),('rya','りゃ'),('go','ご'),('ja','じゃ'),('ja','ぢゃ'),('bya','びゃ'),\n",
    "      ('pya','ぴゃ'),('ki','き'),('se','せ'),('to','と'),('nyu','にゅ'),('hyo','ひょ'),('ya','や'),('ryu','りゅ'),\n",
    "      ('gya','ぎゃ'),('ju','じゅ'),('ju','ぢゅ'),('byu','びゅ'),('pyu','ぴゅ'),('ku','く'),('so','そ'),('cha','ちゃ'),\n",
    "      ('nyo','にょ'),('ma','ま'),('yu','ゆ'),('ryo','りょ'),('gyu','ぎゅ'),('jo','じょ'),('jo','ぢょ'),('byo','びょ'),\n",
    "      ('pyo','ぴょ'),('ke','け'),('sha','しゃ'),('chu','ちゅ'),('ha','は'),('mi','み'),('yo','よ'),('wa','わ'),\n",
    "      ('gyo','ぎょ'),('ko','こ'),('cho','ちょ'),('wo','を')]\n",
    "    \n",
    "    def __init__(self,sleep_time=3,time_out_after=30):\n",
    "        \n",
    "        try:\n",
    "            clear_output()\n",
    "            self.sleep_time=int(input(\"Enter no.of seconds gap between each Hiragana : \"))\n",
    "        except:\n",
    "            self.sleep_time=sleep_time\n",
    "            print(\"Defaulting to 3 seconds gap\")\n",
    "\n",
    "        if self.sleep_time > 6:\n",
    "            print(\"{} seconds is more time than you think\".format(self.sleep_time))           \n",
    "\n",
    "        try:\n",
    "            clear_output()\n",
    "            self.time_out_after=int(input(\"Exit option to appear after every (n seconds): \"))\n",
    "        except:\n",
    "            self.time_out_after=time_out_after\n",
    "            print(\"Defaulting to 30 seconds loop\")\n",
    "        \n",
    "        clear_output()\n",
    "        self.display_check=input(\"Do you need romaji value of Hiragana to be displayed (Y/N) : \")\n",
    "        \n",
    "    def rand_hiragana(self):\n",
    "        clear_output()\n",
    "        self.num=randint(0,106)\n",
    "        if self.display_check.upper() == 'Y':\n",
    "            print(self.Hiragana_with_romaji[self.num][1]+\"\\t\\t\\t ----> \\t\\t\\t\"+self.Hiragana_with_romaji[self.num][0])\n",
    "        else:\n",
    "            print(self.Hiragana[self.num])\n",
    "        time.sleep(self.sleep_time)"
   ]
  },
  {
   "cell_type": "markdown",
   "metadata": {},
   "source": [
    "#### Applying Inheritance"
   ]
  },
  {
   "cell_type": "code",
   "execution_count": 3,
   "metadata": {},
   "outputs": [],
   "source": [
    "class Practice(Intiating):\n",
    "    \n",
    "    total_time=0\n",
    "    \n",
    "    def __init__(self):\n",
    "        Intiating.__init__(self)\n",
    "           \n",
    "    def run(self):\n",
    "        self.total_time+=self.sleep_time\n",
    "    \n",
    "    def timeoutcheck(self):\n",
    "        if self.total_time >= self.time_out_after:\n",
    "            try:\n",
    "                print(\"Press any integer to exit,other keys to continue:\")\n",
    "                self.inp=int(input())\n",
    "                clear_output()\n",
    "                print(\"Exiting practice\")\n",
    "                return False\n",
    "            except:\n",
    "                self.total_time=0\n",
    "                return True\n",
    "        else:\n",
    "            return True\n",
    "            "
   ]
  },
  {
   "cell_type": "markdown",
   "metadata": {},
   "source": [
    "#### Intializing main function"
   ]
  },
  {
   "cell_type": "code",
   "execution_count": 4,
   "metadata": {},
   "outputs": [],
   "source": [
    "def main():\n",
    "    \n",
    "    print(\"Starting practice here\")\n",
    "    \n",
    "    x=True\n",
    "    Start=Practice()\n",
    "    \n",
    "    while x:\n",
    "        Start.run()                             # time spent on execution\n",
    "        Start.rand_hiragana()                   # Generate random Hiragana\n",
    "        x=Start.timeoutcheck()                  # Request to continue or stop practicing "
   ]
  },
  {
   "cell_type": "code",
   "execution_count": 5,
   "metadata": {},
   "outputs": [
    {
     "name": "stdout",
     "output_type": "stream",
     "text": [
      "Exiting practice\n"
     ]
    }
   ],
   "source": [
    "if __name__ == \"__main__\":\n",
    "    \n",
    "    main()"
   ]
  }
 ],
 "metadata": {
  "kernelspec": {
   "display_name": "Python 3",
   "language": "python",
   "name": "python3"
  },
  "language_info": {
   "codemirror_mode": {
    "name": "ipython",
    "version": 3
   },
   "file_extension": ".py",
   "mimetype": "text/x-python",
   "name": "python",
   "nbconvert_exporter": "python",
   "pygments_lexer": "ipython3",
   "version": "3.8.3"
  }
 },
 "nbformat": 4,
 "nbformat_minor": 2
}

{
 "cells": [
  {
   "cell_type": "markdown",
   "metadata": {},
   "source": [
    "### This notebook is used for Hiragana and Katakana practise"
   ]
  },
  {
   "cell_type": "markdown",
   "metadata": {},
   "source": [
    "#### How to use this notebook :\n",
    "Once the program starts running it will keep on generating a random ROMAJI with time gap which was choosen at the begining of the program, you need to have a paper handy on which you can write equivalent Hiragana or Katakana.\n",
    "\n",
    "Program will request to input Time Gap to display each Romaji and for how long. If non-numberic values are entered, it will take default values.\n",
    "\n",
    "After certain period (exit interval period) of time, user will get request to exit or to continue\n",
    "\n",
    "###### Defaults:\n",
    "\n",
    "Gap between Romaji : 3  seconds\n",
    "\n",
    "Exit interval      : 30 seconds\n"
   ]
  },
  {
   "cell_type": "code",
   "execution_count": 1,
   "metadata": {},
   "outputs": [],
   "source": [
    "import time                                               # used for sleep\n",
    "from random import randint                                # To generate random ROMAJI's\n",
    "from IPython.display import clear_output                  # to clear screen"
   ]
  },
  {
   "cell_type": "markdown",
   "metadata": {},
   "source": [
    "#### Creating a list of ROMAJI characters"
   ]
  },
  {
   "cell_type": "code",
   "execution_count": 2,
   "metadata": {},
   "outputs": [],
   "source": [
    "class Intiating():\n",
    "    \n",
    "    Romaji=['a','i','u','e','o','ka','ki','ku','ke','ko','sa','shi','su','se','so',\n",
    "        'ta','chi','tsu','te','to','na','ni','nu','ne','no','ha','hi','fu','he','ho',\n",
    "        'ma','mi','mu','me','mo','ya','yu','yo','ra','ri','ru','re','ru','wa','wo','n']\n",
    "    \n",
    "    def __init__(self,sleep_time=3,time_out_after=30):\n",
    "        \n",
    "        try:\n",
    "            self.sleep_time=int(input(\"Enter no.of seconds gap between each ROMAJI : \"))\n",
    "        except:\n",
    "            self.sleep_time=sleep_time\n",
    "            print(\"Defaulting to 3 seconds gap\")\n",
    "\n",
    "        if self.sleep_time > 6:\n",
    "            print(\"{} seconds is more time than you think\".format(self.sleep_time))           \n",
    "\n",
    "        try:\n",
    "            self.time_out_after=int(input(\"Exit option to appear after every : \"))\n",
    "        except:\n",
    "            self.time_out_after=time_out_after\n",
    "            print(\"Defaulting to 30 seconds loop\")\n",
    "\n",
    "        \n",
    "    def rand_romaji(self):\n",
    "        clear_output()\n",
    "        self.num=randint(0,45)\n",
    "        print(self.Romaji[self.num])\n",
    "        time.sleep(self.sleep_time)"
   ]
  },
  {
   "cell_type": "markdown",
   "metadata": {},
   "source": [
    "#### Applying Inheritance"
   ]
  },
  {
   "cell_type": "code",
   "execution_count": 3,
   "metadata": {},
   "outputs": [],
   "source": [
    "class Practice(Intiating):\n",
    "    \n",
    "    total_time=0\n",
    "    \n",
    "    def __init__(self):\n",
    "        Intiating.__init__(self)\n",
    "           \n",
    "    def run(self):\n",
    "        self.total_time+=self.sleep_time\n",
    "    \n",
    "    def timeoutcheck(self):\n",
    "        if self.total_time >= self.time_out_after:\n",
    "            try:\n",
    "                print(\"Press any integer to exit,other keys to continue:\")\n",
    "                self.inp=int(input())\n",
    "                clear_output()\n",
    "                print(\"Exiting practice\")\n",
    "                return False\n",
    "            except:\n",
    "                self.total_time=0\n",
    "                return True\n",
    "        else:\n",
    "            return True\n",
    "            "
   ]
  },
  {
   "cell_type": "markdown",
   "metadata": {},
   "source": [
    "#### Intializing main function"
   ]
  },
  {
   "cell_type": "code",
   "execution_count": 4,
   "metadata": {},
   "outputs": [],
   "source": [
    "def main():\n",
    "    \n",
    "    print(\"Starting practice here\")\n",
    "    \n",
    "    x=True\n",
    "    Start=Practice()\n",
    "    \n",
    "    while x:\n",
    "        Start.run()                             # time spent on execution\n",
    "        Start.rand_romaji()                     # Generate random ROMAJI\n",
    "        x=Start.timeoutcheck()                  # Request to continue or stop practicing "
   ]
  },
  {
   "cell_type": "code",
   "execution_count": 5,
   "metadata": {},
   "outputs": [
    {
     "name": "stdout",
     "output_type": "stream",
     "text": [
      "Exiting practice\n"
     ]
    }
   ],
   "source": [
    "if __name__ == \"__main__\":\n",
    "    \n",
    "    main()"
   ]
  }
 ],
 "metadata": {
  "kernelspec": {
   "display_name": "Python 3",
   "language": "python",
   "name": "python3"
  },
  "language_info": {
   "codemirror_mode": {
    "name": "ipython",
    "version": 3
   },
   "file_extension": ".py",
   "mimetype": "text/x-python",
   "name": "python",
   "nbconvert_exporter": "python",
   "pygments_lexer": "ipython3",
   "version": "3.8.3"
  }
 },
 "nbformat": 4,
 "nbformat_minor": 2
}

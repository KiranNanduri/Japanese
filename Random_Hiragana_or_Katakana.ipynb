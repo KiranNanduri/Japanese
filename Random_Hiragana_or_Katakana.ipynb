{
 "cells": [
  {
   "cell_type": "markdown",
   "metadata": {},
   "source": [
    "### This notebook is used for Japanese_char  practise"
   ]
  },
  {
   "cell_type": "markdown",
   "metadata": {},
   "source": [
    "#### How to use this notebook :\n",
    "Once the program starts running it will keep on generating a random Japanese_char with time gap which was choosen at the begning of the program, you need to have a paper handy on which you can write equivalent romaji.\n",
    "\n",
    "Program will request to input Time Gap to display each Japanese_char and for how long. If non-numberic values are entered, it will take default values.\n",
    "\n",
    "After certain period of time, user will get request to continue\n",
    "\n",
    "###### Defaults:\n",
    "\n",
    "Gap between Japanese_char : 3  seconds\n",
    "\n",
    "Exit interval      : 30 seconds\n"
   ]
  },
  {
   "cell_type": "code",
   "execution_count": 1,
   "metadata": {},
   "outputs": [],
   "source": [
    "import time                                               # used for sleep\n",
    "from random import randint                                # To generate random Japanese_char\n",
    "from IPython.display import clear_output                  # to clear screen"
   ]
  },
  {
   "cell_type": "markdown",
   "metadata": {},
   "source": [
    "#### Creating a list of Japanese_char characters"
   ]
  },
  {
   "cell_type": "code",
   "execution_count": 2,
   "metadata": {},
   "outputs": [],
   "source": [
    "class Intiating():\n",
    "    \n",
    "    Japanese_char=['あ','い','う','え','お','か','き','く','け','こ',\n",
    "            'きゃ','きゅ','きょ','さ','し','す','せ','そ','しゃ',\n",
    "            'しゅ','しょ','た','ち','つ','て','と','ちゃ','ちゅ','ちょ',\n",
    "            'な','に','ぬ','ね','の','にゃ','にゅ','にょ','は',\n",
    "            'ひ','ふ','へ','ほ','ひゃ','ひゅ','ひょ','ま','み',\n",
    "            'む','め','も','みゃ','みゅ','みょ','や','ゆ','よ',\n",
    "            'ら','り','る','れ','ろ','りゃ','りゅ','りょ','わ','を',\n",
    "            'ん','が','ぎ','ぐ','げ','ご','ぎゃ','ぎゅ','ぎょ',\n",
    "            'ざ','じ','ず','ぜ','ぞ','じゃ','じゅ','じょ',\n",
    "            'だ','ぢ','づ','で','ど','ぢゃ','ぢゅ','ぢょ',\n",
    "            'ば','び','ぶ','べ','ぼ','びゃ','びゅ','びょ',\n",
    "            'ぱ','ぴ','ぷ','ぺ','ぽ','ぴゃ','ぴゅ','ぴょ',\n",
    "            'ア','イ','ウ','エ','オ','カ','キ','ク','ケ','コ','キャ','キュ','キョ',\n",
    "            'サ','シ','ス','セ','ソ','シャ','シュ','ショ',\n",
    "            'タ','チ','ツ','テ','ト','チャ','チュ','チョ',\n",
    "            'ナ','ニ','ヌ','ネ','ノ','ニャ','ニュ','ニョ',\n",
    "            'ハ','ヒ','フ','ヘ','ホ','ヒャ','ヒュ','ヒョ',\n",
    "            'マ','ミ','ム','メ','モ','ミャ','ミュ','ミョ',\n",
    "            'ヤ','ユ','ヨ','ラ','リ','ル','レ','ロ','リャ','リュ','リョ','ワ','ヲ','ン',\n",
    "            'ガ','ギ','グ','ゲ','ゴ','ギャ','ギュ','ギョ',\n",
    "            'ザ','ジ','ズ','ゼ','ゾ','ジャ','ジュ','ジョ',\n",
    "            'ダ','ヂ','ヅ','デ','ド','ヂャ','ヂュ','ヂョ',\n",
    "            'バ','ビ','ブ','ベ','ボ','ビャ','ビュ','ビョ',\n",
    "            'パ','ピ','プ','ペ','ポ','ピャ','ピュ','ピョ']\n",
    "    \n",
    "    def __init__(self,sleep_time=3,time_out_after=30):\n",
    "        \n",
    "        try:\n",
    "            self.sleep_time=int(input(\"Enter no.of seconds gap between each Japanese_char : \"))\n",
    "        except:\n",
    "            self.sleep_time=sleep_time\n",
    "            print(\"Defaulting to 3 seconds gap\")\n",
    "\n",
    "        if self.sleep_time > 6:\n",
    "            print(\"{} seconds is more time than you think\".format(self.sleep_time))           \n",
    "\n",
    "        try:\n",
    "            self.time_out_after=int(input(\"Exit option to appear after every : \"))\n",
    "        except:\n",
    "            self.time_out_after=time_out_after\n",
    "            print(\"Defaulting to 30 seconds loop\")\n",
    "\n",
    "        \n",
    "    def rand_Japanese_char(self):\n",
    "        clear_output()\n",
    "        self.num=randint(0,212)\n",
    "        print(self.Japanese_char[self.num])\n",
    "        time.sleep(self.sleep_time)"
   ]
  },
  {
   "cell_type": "markdown",
   "metadata": {},
   "source": [
    "#### Applying Inheritance"
   ]
  },
  {
   "cell_type": "code",
   "execution_count": 3,
   "metadata": {},
   "outputs": [],
   "source": [
    "class Practice(Intiating):\n",
    "    \n",
    "    total_time=0\n",
    "    \n",
    "    def __init__(self):\n",
    "        Intiating.__init__(self)\n",
    "           \n",
    "    def run(self):\n",
    "        self.total_time+=self.sleep_time\n",
    "    \n",
    "    def timeoutcheck(self):\n",
    "        if self.total_time >= self.time_out_after:\n",
    "            try:\n",
    "                print(\"Press any integer to exit,other keys to continue:\")\n",
    "                self.inp=int(input())\n",
    "                clear_output()\n",
    "                print(\"Exiting practice\")\n",
    "                return False\n",
    "            except:\n",
    "                self.total_time=0\n",
    "                return True\n",
    "        else:\n",
    "            return True\n",
    "            "
   ]
  },
  {
   "cell_type": "markdown",
   "metadata": {},
   "source": [
    "#### Intializing main function"
   ]
  },
  {
   "cell_type": "code",
   "execution_count": 4,
   "metadata": {},
   "outputs": [],
   "source": [
    "def main():\n",
    "    \n",
    "    print(\"Starting practice here\")\n",
    "    \n",
    "    x=True\n",
    "    Start=Practice()\n",
    "    \n",
    "    while x:\n",
    "        Start.run()                             # time spent on execution\n",
    "        Start.rand_Japanese_char()              # Generate random Japanese_char\n",
    "        x=Start.timeoutcheck()                  # Request to continue or stop practicing \n"
   ]
  },
  {
   "cell_type": "code",
   "execution_count": 5,
   "metadata": {},
   "outputs": [
    {
     "name": "stdout",
     "output_type": "stream",
     "text": [
      "Exiting practice\n"
     ]
    }
   ],
   "source": [
    "if __name__ == \"__main__\":\n",
    "    \n",
    "    main()"
   ]
  }
 ],
 "metadata": {
  "kernelspec": {
   "display_name": "Python 3",
   "language": "python",
   "name": "python3"
  },
  "language_info": {
   "codemirror_mode": {
    "name": "ipython",
    "version": 3
   },
   "file_extension": ".py",
   "mimetype": "text/x-python",
   "name": "python",
   "nbconvert_exporter": "python",
   "pygments_lexer": "ipython3",
   "version": "3.8.3"
  }
 },
 "nbformat": 4,
 "nbformat_minor": 2
}

{
 "cells": [
  {
   "cell_type": "markdown",
   "metadata": {},
   "source": [
    "### This notebook is used for Katakana  practise"
   ]
  },
  {
   "cell_type": "markdown",
   "metadata": {},
   "source": [
    "#### How to use this notebook :\n",
    "Once the program starts running it will keep on generating a random Katakana with time gap which was choosen at the begning of the program, you need to have a paper handy on which you can write equivalent romaji.\n",
    "\n",
    "Program will request to input Time Gap to display each Katakana and for how long. If non-numberic values are entered, it will take default values.\n",
    "\n",
    "After certain period of time, user will get request to continue\n",
    "\n",
    "###### Defaults:\n",
    "\n",
    "Gap between Katakana : 3  seconds\n",
    "\n",
    "Exit interval      : 30 seconds\n"
   ]
  },
  {
   "cell_type": "code",
   "execution_count": 1,
   "metadata": {},
   "outputs": [],
   "source": [
    "import time                                               # used for sleep\n",
    "from random import randint                                # To generate random Katakana\n",
    "from IPython.display import clear_output                  # to clear screen"
   ]
  },
  {
   "cell_type": "markdown",
   "metadata": {},
   "source": [
    "#### Creating a list of Katakana characters"
   ]
  },
  {
   "cell_type": "code",
   "execution_count": 2,
   "metadata": {},
   "outputs": [],
   "source": [
    "class Intiating():\n",
    "    \n",
    "    Kataana=['ア','イ','ウ','エ','オ','カ','キ','ク','ケ','コ','キャ','キュ','キョ',\n",
    "             'サ','シ','ス','セ','ソ','シャ','シュ','ショ',\n",
    "             'タ','チ','ツ','テ','ト','チャ','チュ','チョ',\n",
    "             'ナ','ニ','ヌ','ネ','ノ','ニャ','ニュ','ニョ',\n",
    "             'ハ','ヒ','フ','ヘ','ホ','ヒャ','ヒュ','ヒョ',\n",
    "             'マ','ミ','ム','メ','モ','ミャ','ミュ','ミョ',\n",
    "             'ヤ','ユ','ヨ','ラ','リ','ル','レ','ロ','リャ','リュ','リョ','ワ','ヲ','ン',\n",
    "             'ガ','ギ','グ','ゲ','ゴ','ギャ','ギュ','ギョ',\n",
    "             'ザ','ジ','ズ','ゼ','ゾ','ジャ','ジュ','ジョ',\n",
    "             'ダ','ヂ','ヅ','デ','ド','ヂャ','ヂュ','ヂョ',\n",
    "             'バ','ビ','ブ','ベ','ボ','ビャ','ビュ','ビョ',\n",
    "             'パ','ピ','プ','ペ','ポ','ピャ','ピュ','ピョ']\n",
    "    \n",
    "    Katakana_with_romaji=[('a','ア'),('sa','サ'),('ta','タ'),('na','ナ'),('ha','ハ'),('ma','マ'),('ya','ヤ'),\n",
    "                          ('ga','ガ'),('za','ザ'),('da','ダ'),('ba','バ'),('pa','パ'),('i','イ'),('shi','シ'),\n",
    "                          ('chi','チ'),('ni','ニ'),('hi','ヒ'),('mi','ミ'),('yu','ユ'),('gi','ギ'),('ji','ジ'),\n",
    "                          ('ji','ヂ'),('bi','ビ'),('pi','ピ'),('u','ウ'),('su','ス'),('tsu','ツ'),('nu','ヌ'),\n",
    "                          ('fu','フ'),('mu','ム'),('yo','ヨ'),('gu','グ'),('zu','ズ'),('dzu','ヅ'),('bu','ブ'),\n",
    "                          ('pu','プ'),('e','エ'),('se','セ'),('te','テ'),('ne','ネ'),('he','ヘ'),('me','メ'),\n",
    "                          ('ra','ラ'),('ge','ゲ'),('ze','ゼ'),('de','デ'),('be','ベ'),('pe','ペ'),('o','オ'),\n",
    "                          ('so','ソ'),('to','ト'),('no','ノ'),('ho','ホ'),('mo','モ'),('ri','リ'),('go','ゴ'),\n",
    "                          ('zo','ゾ'),('do','ド'),('bo','ボ'),('po','ポ'),('ka','カ'),('sha','シャ'),('cha','チャ'),\n",
    "                          ('nya','ニャ'),('hya','ヒャ'),('mya','ミャ'),('ru','ル'),('gya','ギャ'),('ja','ジャ'),\n",
    "                          ('ja','ヂャ'),('bya','ビャ'),('pya','ピャ'),('ki','キ'),('shu','シュ'),('chu','チュ'),\n",
    "                          ('nyu','ニュ'),('hyu','ヒュ'),('myu','ミュ'),('re','レ'),('gyu','ギュ'),('ju','ジュ'),\n",
    "                          ('ju','ヂュ'),('byu','ビュ'),('pyu','ピュ'),('ku','ク'),('sho','ショ'),('cho','チョ'),\n",
    "                          ('nyo','ニョ'),('hyo','ヒョ'),('myo','ミョ'),('ro','ロ'),('gyo','ギョ'),('jo','ジョ'),\n",
    "                          ('jo','ヂョ'),('byo','ビョ'),('pyo','ピョ'),('ke','ケ'),('rya','リャ'),('ko','コ'),\n",
    "                          ('ryu','リュ'),('kya','キャ'),('ryo','リョ'),('kyu','キュ'),('wa','ワ'),('kyo','キョ'),\n",
    "                          ('wo','ヲ'),('n','ン')]\n",
    "    \n",
    "    def __init__(self,sleep_time=3,time_out_after=30):\n",
    "        \n",
    "        try:\n",
    "            clear_output()\n",
    "            self.sleep_time=int(input(\"Enter no.of seconds gap between each Katakana : \"))\n",
    "        except:\n",
    "            self.sleep_time=sleep_time\n",
    "            print(\"Defaulting to 3 seconds gap\")\n",
    "\n",
    "        if self.sleep_time > 6:\n",
    "            print(\"{} seconds is more time than you think\".format(self.sleep_time))           \n",
    "\n",
    "        try:\n",
    "            clear_output()\n",
    "            self.time_out_after=int(input(\"Exit option to appear after every (n seconds) : \"))\n",
    "        except:\n",
    "            self.time_out_after=time_out_after\n",
    "            print(\"Defaulting to 30 seconds loop\")\n",
    "        \n",
    "        clear_output()\n",
    "        self.display_check=input(\"Do you need romaji value of Katakana to be displayed (Y/N) : \")\n",
    "        \n",
    "    def rand_Katakana(self):\n",
    "        clear_output()\n",
    "        self.num=randint(0,106)\n",
    "        if self.display_check.upper() == 'Y':\n",
    "            print(self.Katakana_with_romaji[self.num][1]+\"\\t\\t\\t ----> \\t\\t\\t\"+self.Katakana_with_romaji[self.num][0])\n",
    "        else:\n",
    "            print(self.Kataana[self.num])\n",
    "        time.sleep(self.sleep_time)"
   ]
  },
  {
   "cell_type": "markdown",
   "metadata": {},
   "source": [
    "#### Applying Inheritance"
   ]
  },
  {
   "cell_type": "code",
   "execution_count": 3,
   "metadata": {},
   "outputs": [],
   "source": [
    "class Practice(Intiating):\n",
    "    \n",
    "    total_time=0\n",
    "    \n",
    "    def __init__(self):\n",
    "        Intiating.__init__(self)\n",
    "           \n",
    "    def run(self):\n",
    "        self.total_time+=self.sleep_time\n",
    "    \n",
    "    def timeoutcheck(self):\n",
    "        if self.total_time >= self.time_out_after:\n",
    "            try:\n",
    "                print(\"Press any integer to exit,other keys to continue:\")\n",
    "                self.inp=int(input())\n",
    "                clear_output()\n",
    "                print(\"Exiting practice\")\n",
    "                return False\n",
    "            except:\n",
    "                self.total_time=0\n",
    "                return True\n",
    "        else:\n",
    "            return True\n",
    "            "
   ]
  },
  {
   "cell_type": "markdown",
   "metadata": {},
   "source": [
    "#### Intializing main function"
   ]
  },
  {
   "cell_type": "code",
   "execution_count": 4,
   "metadata": {},
   "outputs": [],
   "source": [
    "def main():\n",
    "    \n",
    "    print(\"Starting practice here\")\n",
    "    \n",
    "    x=True\n",
    "    Start=Practice()\n",
    "    \n",
    "    while x:\n",
    "        Start.run()                             # time spent on execution\n",
    "        Start.rand_Katakana()                   # Generate random Katakana\n",
    "        x=Start.timeoutcheck()                  # Request to continue or stop practicing \n"
   ]
  },
  {
   "cell_type": "code",
   "execution_count": 5,
   "metadata": {},
   "outputs": [
    {
     "name": "stdout",
     "output_type": "stream",
     "text": [
      "Exiting practice\n"
     ]
    }
   ],
   "source": [
    "if __name__ == \"__main__\":\n",
    "    \n",
    "    main()"
   ]
  }
 ],
 "metadata": {
  "kernelspec": {
   "display_name": "Python 3",
   "language": "python",
   "name": "python3"
  },
  "language_info": {
   "codemirror_mode": {
    "name": "ipython",
    "version": 3
   },
   "file_extension": ".py",
   "mimetype": "text/x-python",
   "name": "python",
   "nbconvert_exporter": "python",
   "pygments_lexer": "ipython3",
   "version": "3.8.3"
  }
 },
 "nbformat": 4,
 "nbformat_minor": 2
}
